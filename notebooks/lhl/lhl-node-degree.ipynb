{
 "cells": [
  {
   "cell_type": "code",
   "execution_count": 1,
   "id": "246f5e39-4ebd-4872-8bfe-95f0214d594c",
   "metadata": {
    "tags": []
   },
   "outputs": [],
   "source": [
    "import json\n",
    "import os\n",
    "import itertools\n",
    "\n",
    "import rootpath\n",
    "import numpy as np\n",
    "import pandas as pd\n",
    "import networkx as nx\n",
    "import matplotlib\n",
    "# matplotlib.use('Agg') # Must be before importing matplotlib.pyplot or pylab!\n",
    "import matplotlib.pyplot as plt\n",
    "import matplotlib.colors as colors\n",
    "import matplotlib.cm as cm\n",
    "import geopandas as gpd\n",
    "import pycountry as pc\n",
    "import pycountry_convert as pcc\n",
    "\n",
    "from lhledge import cfgLoader\n",
    "from lhledge import lhlFilters\n",
    "from lhledge import loadGeographicData"
   ]
  },
  {
   "cell_type": "code",
   "execution_count": 2,
   "id": "80b7b5ee-73dc-4851-a010-37dddef7f315",
   "metadata": {},
   "outputs": [],
   "source": [
    "import matplotlib\n",
    "matplotlib.rcParams['pdf.fonttype'] = 42\n",
    "matplotlib.rcParams['ps.fonttype'] = 42"
   ]
  },
  {
   "cell_type": "code",
   "execution_count": 3,
   "id": "c43084e7-65f9-4bb6-9b51-e516b63ae3aa",
   "metadata": {
    "tags": []
   },
   "outputs": [],
   "source": [
    "CYCLE = 10020\n",
    "DOWNSAMPLING = 1"
   ]
  },
  {
   "cell_type": "code",
   "execution_count": 4,
   "id": "58bb1047-2d6c-4117-99ac-728d4ce4134f",
   "metadata": {
    "tags": []
   },
   "outputs": [],
   "source": [
    "def ecdf(data, w=[]):\n",
    "    \"\"\" Compute ECDF \"\"\"\n",
    "    if len(w) == 0:\n",
    "        w = np.ones(len(data))\n",
    "    #\n",
    "    #     x = np.sort(data)\n",
    "    idx = np.argsort(data).values\n",
    "    #\n",
    "    x = np.array(data)\n",
    "    x = x[idx]\n",
    "    w = w[idx]\n",
    "    #\n",
    "    n = x.size\n",
    "    #     y = np.arange(1, n + 1) / n\n",
    "    y = np.cumsum(w) / sum(w)\n",
    "    return (np.squeeze(x), y)"
   ]
  },
  {
   "cell_type": "code",
   "execution_count": 5,
   "id": "28f36703-4803-4891-9b10-5f05ae1206cf",
   "metadata": {
    "tags": []
   },
   "outputs": [],
   "source": [
    "def ecdf2(df, field, field_aux):\n",
    "    df = df.sort_values(field)\n",
    "    y = np.cumsum(df.groupby(field)[\"router_id\"].count().values)\n",
    "    y = y / max(y)\n",
    "    x = df.drop_duplicates(field)[field].values\n",
    "    return x, y"
   ]
  },
  {
   "cell_type": "code",
   "execution_count": 6,
   "id": "d57ca848-bc45-41d4-9df9-c6bbfd23a9d7",
   "metadata": {
    "tags": []
   },
   "outputs": [],
   "source": [
    "# Change directory to run from the root dir of the project\n",
    "path = rootpath.detect(pattern=\".git\")\n",
    "os.chdir(path)\n",
    "\n",
    "# load config file\n",
    "cfg = cfgLoader.cfgLoader(\"config.yml\")"
   ]
  },
  {
   "cell_type": "code",
   "execution_count": 7,
   "id": "4afdefa9-c845-4fef-9067-700e3990038c",
   "metadata": {},
   "outputs": [],
   "source": [
    "df = pd.read_csv(f\"data/processed/snapshots/{CYCLE}.csv.gz\", compression=\"gzip\")"
   ]
  },
  {
   "cell_type": "code",
   "execution_count": 8,
   "id": "73065777-0b38-49c6-b312-fc52036f3330",
   "metadata": {
    "tags": []
   },
   "outputs": [
    {
     "data": {
      "text/html": [
       "<div>\n",
       "<style scoped>\n",
       "    .dataframe tbody tr th:only-of-type {\n",
       "        vertical-align: middle;\n",
       "    }\n",
       "\n",
       "    .dataframe tbody tr th {\n",
       "        vertical-align: top;\n",
       "    }\n",
       "\n",
       "    .dataframe thead th {\n",
       "        text-align: right;\n",
       "    }\n",
       "</style>\n",
       "<table border=\"1\" class=\"dataframe\">\n",
       "  <thead>\n",
       "    <tr style=\"text-align: right;\">\n",
       "      <th></th>\n",
       "      <th>cc_src</th>\n",
       "      <th>cc_dst</th>\n",
       "      <th>dist</th>\n",
       "    </tr>\n",
       "  </thead>\n",
       "  <tbody>\n",
       "    <tr>\n",
       "      <th>0</th>\n",
       "      <td>AW</td>\n",
       "      <td>AW</td>\n",
       "      <td>5.225315</td>\n",
       "    </tr>\n",
       "    <tr>\n",
       "      <th>1</th>\n",
       "      <td>AW</td>\n",
       "      <td>AF</td>\n",
       "      <td>13257.810000</td>\n",
       "    </tr>\n",
       "    <tr>\n",
       "      <th>2</th>\n",
       "      <td>AW</td>\n",
       "      <td>AO</td>\n",
       "      <td>9516.913000</td>\n",
       "    </tr>\n",
       "    <tr>\n",
       "      <th>3</th>\n",
       "      <td>AW</td>\n",
       "      <td>AI</td>\n",
       "      <td>983.268200</td>\n",
       "    </tr>\n",
       "    <tr>\n",
       "      <th>4</th>\n",
       "      <td>AW</td>\n",
       "      <td>AL</td>\n",
       "      <td>9091.742000</td>\n",
       "    </tr>\n",
       "  </tbody>\n",
       "</table>\n",
       "</div>"
      ],
      "text/plain": [
       "  cc_src cc_dst          dist\n",
       "0     AW     AW      5.225315\n",
       "1     AW     AF  13257.810000\n",
       "2     AW     AO   9516.913000\n",
       "3     AW     AI    983.268200\n",
       "4     AW     AL   9091.742000"
      ]
     },
     "execution_count": 8,
     "metadata": {},
     "output_type": "execute_result"
    }
   ],
   "source": [
    "cepii = loadGeographicData.load_inter_country_distances(\"data/external/cepii/dist_cepii.csv\", \n",
    "                                                        \"data/processed/min-cc-dist/min_cc_dist.csv\")\n",
    "cepii.head()"
   ]
  },
  {
   "cell_type": "code",
   "execution_count": 9,
   "id": "c3e11ca5-bcd8-48e7-a5ca-624810a7320e",
   "metadata": {
    "tags": []
   },
   "outputs": [],
   "source": [
    "G = nx.from_pandas_edgelist(\n",
    "   df.drop_duplicates([\"near_node_id\", \"far_node_id\",]),\n",
    "    \"near_node_id\",\n",
    "    \"far_node_id\",\n",
    "    edge_attr='diff_rtt'\n",
    ")\n",
    "\n",
    "nx.set_node_attributes(\n",
    "    G,\n",
    "    pd.Series(\n",
    "        df[\"near_side_cc\"].values,\n",
    "        index=df[\"near_node_id\"]\n",
    "    ).to_dict(),\n",
    "    'cc',\n",
    ")\n",
    "nx.set_node_attributes(\n",
    "    G,\n",
    "    pd.Series(\n",
    "        df[\"far_side_cc\"].values,\n",
    "        index=df[\"far_node_id\"]\n",
    "    ).to_dict(),\n",
    "    'cc',\n",
    ")"
   ]
  },
  {
   "cell_type": "code",
   "execution_count": 10,
   "id": "f543d07a-d12f-4f3e-b67b-b70d9a34939d",
   "metadata": {
    "tags": []
   },
   "outputs": [],
   "source": [
    "all_vals = []\n",
    "cc_list = []\n",
    "rtt_vals = []\n",
    "for n1, n2, weight  in G.edges(data=True):\n",
    "    cc1 = G.nodes()[n1][\"cc\"]\n",
    "    cc2 = G.nodes()[n2][\"cc\"]\n",
    "    cc_str_1 = f\"{cc1}-{cc2}\"\n",
    "    cc_str_2 = f\"{cc2}-{cc1}\"\n",
    "    if (cc_str_1 not in cc_list) and (cc_str_2 not in cc_list):\n",
    "        cc_list.append(cc_str_1)\n",
    "    rtt_vals.append(weight[\"diff_rtt\"])\n",
    "    all_vals.append((cc1, cc2, weight[\"diff_rtt\"]))"
   ]
  },
  {
   "cell_type": "code",
   "execution_count": 11,
   "id": "ea435a7f-f046-4848-bf70-c4eeee7d2f4b",
   "metadata": {
    "tags": []
   },
   "outputs": [
    {
     "data": {
      "text/html": [
       "<div>\n",
       "<style scoped>\n",
       "    .dataframe tbody tr th:only-of-type {\n",
       "        vertical-align: middle;\n",
       "    }\n",
       "\n",
       "    .dataframe tbody tr th {\n",
       "        vertical-align: top;\n",
       "    }\n",
       "\n",
       "    .dataframe thead th {\n",
       "        text-align: right;\n",
       "    }\n",
       "</style>\n",
       "<table border=\"1\" class=\"dataframe\">\n",
       "  <thead>\n",
       "    <tr style=\"text-align: right;\">\n",
       "      <th></th>\n",
       "      <th>cc1</th>\n",
       "      <th>cc2</th>\n",
       "      <th>dist</th>\n",
       "    </tr>\n",
       "  </thead>\n",
       "  <tbody>\n",
       "    <tr>\n",
       "      <th>0</th>\n",
       "      <td>AE</td>\n",
       "      <td>CH</td>\n",
       "      <td>4407.826551</td>\n",
       "    </tr>\n",
       "    <tr>\n",
       "      <th>1</th>\n",
       "      <td>CH</td>\n",
       "      <td>JP</td>\n",
       "      <td>9214.366906</td>\n",
       "    </tr>\n",
       "    <tr>\n",
       "      <th>2</th>\n",
       "      <td>AE</td>\n",
       "      <td>DE</td>\n",
       "      <td>4266.720006</td>\n",
       "    </tr>\n",
       "    <tr>\n",
       "      <th>3</th>\n",
       "      <td>DE</td>\n",
       "      <td>US</td>\n",
       "      <td>5297.217204</td>\n",
       "    </tr>\n",
       "    <tr>\n",
       "      <th>4</th>\n",
       "      <td>AE</td>\n",
       "      <td>US</td>\n",
       "      <td>10133.024219</td>\n",
       "    </tr>\n",
       "  </tbody>\n",
       "</table>\n",
       "</div>"
      ],
      "text/plain": [
       "  cc1 cc2          dist\n",
       "0  AE  CH   4407.826551\n",
       "1  CH  JP   9214.366906\n",
       "2  AE  DE   4266.720006\n",
       "3  DE  US   5297.217204\n",
       "4  AE  US  10133.024219"
      ]
     },
     "execution_count": 11,
     "metadata": {},
     "output_type": "execute_result"
    }
   ],
   "source": [
    "l = []\n",
    "\n",
    "for str_cc in cc_list:\n",
    "    cc1, cc2 = str_cc.split(\"-\")\n",
    "    l.append((cc1, cc2))\n",
    "\n",
    "cc_graph = pd.DataFrame(l, columns=[\"cc1\", \"cc2\"])\n",
    "cc_graph = cc_graph.join(\n",
    "    cepii[[\"cc_src\", \"cc_dst\", \"dist\"]].set_index([\"cc_src\", \"cc_dst\"]),\n",
    "    on=[\"cc1\", \"cc2\"],\n",
    "    how='left',\n",
    "    lsuffix='_left',\n",
    "    rsuffix='_right'\n",
    ")\n",
    "cc_graph.head()\n"
   ]
  },
  {
   "cell_type": "code",
   "execution_count": 12,
   "id": "46c40422-4955-4c9c-8677-98d0676ccbb0",
   "metadata": {
    "tags": []
   },
   "outputs": [
    {
     "data": {
      "text/html": [
       "<div>\n",
       "<style scoped>\n",
       "    .dataframe tbody tr th:only-of-type {\n",
       "        vertical-align: middle;\n",
       "    }\n",
       "\n",
       "    .dataframe tbody tr th {\n",
       "        vertical-align: top;\n",
       "    }\n",
       "\n",
       "    .dataframe thead th {\n",
       "        text-align: right;\n",
       "    }\n",
       "</style>\n",
       "<table border=\"1\" class=\"dataframe\">\n",
       "  <thead>\n",
       "    <tr style=\"text-align: right;\">\n",
       "      <th></th>\n",
       "      <th>cc1</th>\n",
       "      <th>cc2</th>\n",
       "      <th>diff_rtt</th>\n",
       "      <th>dist</th>\n",
       "    </tr>\n",
       "  </thead>\n",
       "  <tbody>\n",
       "    <tr>\n",
       "      <th>0</th>\n",
       "      <td>AE</td>\n",
       "      <td>CH</td>\n",
       "      <td>114.876</td>\n",
       "      <td>4407.826551</td>\n",
       "    </tr>\n",
       "    <tr>\n",
       "      <th>1</th>\n",
       "      <td>CH</td>\n",
       "      <td>JP</td>\n",
       "      <td>209.294</td>\n",
       "      <td>9214.366906</td>\n",
       "    </tr>\n",
       "    <tr>\n",
       "      <th>2</th>\n",
       "      <td>CH</td>\n",
       "      <td>JP</td>\n",
       "      <td>211.329</td>\n",
       "      <td>9214.366906</td>\n",
       "    </tr>\n",
       "    <tr>\n",
       "      <th>3</th>\n",
       "      <td>AE</td>\n",
       "      <td>DE</td>\n",
       "      <td>67.622</td>\n",
       "      <td>4266.720006</td>\n",
       "    </tr>\n",
       "    <tr>\n",
       "      <th>4</th>\n",
       "      <td>DE</td>\n",
       "      <td>US</td>\n",
       "      <td>80.180</td>\n",
       "      <td>5297.217204</td>\n",
       "    </tr>\n",
       "  </tbody>\n",
       "</table>\n",
       "</div>"
      ],
      "text/plain": [
       "  cc1 cc2  diff_rtt         dist\n",
       "0  AE  CH   114.876  4407.826551\n",
       "1  CH  JP   209.294  9214.366906\n",
       "2  CH  JP   211.329  9214.366906\n",
       "3  AE  DE    67.622  4266.720006\n",
       "4  DE  US    80.180  5297.217204"
      ]
     },
     "execution_count": 12,
     "metadata": {},
     "output_type": "execute_result"
    }
   ],
   "source": [
    "all_vals = pd.DataFrame(all_vals, columns=[\"cc1\", \"cc2\", \"diff_rtt\"])\n",
    "all_vals = all_vals.join(\n",
    "    cepii[[\"cc_src\", \"cc_dst\", \"dist\"]].set_index([\"cc_src\", \"cc_dst\"]),\n",
    "    on=[\"cc1\", \"cc2\"],\n",
    "    how='left',\n",
    "    lsuffix='_left',\n",
    "    rsuffix='_right'\n",
    ")\n",
    "all_vals.head()"
   ]
  },
  {
   "cell_type": "code",
   "execution_count": 13,
   "id": "e5a33cc8-682b-4d1f-99a6-f1fa8980b4f1",
   "metadata": {
    "tags": []
   },
   "outputs": [
    {
     "name": "stdout",
     "output_type": "stream",
     "text": [
      "nodes: 31773\n",
      "edges: 85620\n",
      "countries: 170\n"
     ]
    }
   ],
   "source": [
    "H = nx.from_pandas_edgelist(\n",
    "   cc_graph,\n",
    "    \"cc1\",\n",
    "    \"cc2\",\n",
    ")\n",
    "\n",
    "print(f\"nodes: {len(G.nodes())}\")\n",
    "print(f\"edges: {len(G.edges())}\")\n",
    "print(f\"countries: {len(H.nodes())}\")\n",
    "\n"
   ]
  },
  {
   "cell_type": "code",
   "execution_count": 14,
   "id": "6fab16a7-ec98-4f68-8536-30453980c466",
   "metadata": {
    "tags": []
   },
   "outputs": [],
   "source": [
    "d = pd.DataFrame([(node, val) for (node, val) in G.degree()], columns=[\"node\", \"degree\"])"
   ]
  },
  {
   "cell_type": "code",
   "execution_count": 15,
   "id": "43fc6571-3fdb-4ca2-9473-a4f0b855367c",
   "metadata": {
    "tags": []
   },
   "outputs": [],
   "source": [
    "ds = d.groupby(\"degree\")[\"node\"].count().reset_index()\n",
    "ds = ds.sort_values(\"degree\")"
   ]
  },
  {
   "cell_type": "code",
   "execution_count": 16,
   "id": "b4d1ff07-713c-415d-bcdc-7c3b71a9876e",
   "metadata": {
    "tags": []
   },
   "outputs": [
    {
     "data": {
      "image/png": "[encoded data removed]",
      "text/plain": [
       "<Figure size 400x400 with 1 Axes>"
      ]
     },
     "metadata": {},
     "output_type": "display_data"
    }
   ],
   "source": [
    "fig, ax = plt.subplots(1, figsize=(4, 4))\n",
    "\n",
    "ax.yaxis.grid(True, linestyle='-', color='#bababa', alpha=0.5, which='both')\n",
    "ax.xaxis.grid(True, linestyle='-', color='#bababa', alpha=0.5, which='both')\n",
    "\n",
    "ax.plot(\n",
    "    ds[\"degree\"].values,\n",
    "    ds[\"node\"].values,\n",
    ")\n",
    "\n",
    "ax.set_xscale('log')\n",
    "ax.set_yscale('log')\n",
    "\n",
    "ax.tick_params(labelsize=18)\n",
    "ax.set_xlabel(\"degree\", fontsize=18)\n",
    "ax.set_ylabel(\"frequency\", fontsize=18)\n",
    "\n",
    "\n",
    "fig.subplots_adjust(hspace=0)\n",
    "fig.tight_layout()\n",
    "# fig.savefig(\"figures/lhls/node_degree.pdf\")"
   ]
  }
 ],
 "metadata": {
  "kernelspec": {
   "display_name": ".lhl-edge",
   "language": "python",
   "name": ".lhl-edge"
  },
  "language_info": {
   "codemirror_mode": {
    "name": "ipython",
    "version": 3
   },
   "file_extension": ".py",
   "mimetype": "text/x-python",
   "name": "python",
   "nbconvert_exporter": "python",
   "pygments_lexer": "ipython3",
   "version": "3.10.12"
  }
 },
 "nbformat": 4,
 "nbformat_minor": 5
}
