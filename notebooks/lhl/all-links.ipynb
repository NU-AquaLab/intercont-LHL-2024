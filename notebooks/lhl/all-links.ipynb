{
 "cells": [
  {
   "cell_type": "code",
   "execution_count": 1,
   "id": "d9ba6d57-6277-4cf7-bec3-5190d4438665",
   "metadata": {
    "tags": []
   },
   "outputs": [],
   "source": [
    "import json\n",
    "import os\n",
    "import itertools\n",
    "import glob\n",
    "\n",
    "import multiprocessing\n",
    "import rootpath\n",
    "import numpy as np\n",
    "import pandas as pd\n",
    "import networkx as nx\n",
    "import matplotlib\n",
    "# matplotlib.use('Agg') # Must be before importing matplotlib.pyplot or pylab!\n",
    "import matplotlib.pyplot as plt\n",
    "import matplotlib.colors as colors\n",
    "import matplotlib.cm as cm\n",
    "import geopandas as gpd\n",
    "import pycountry as pc\n",
    "import pycountry_convert as pcc\n",
    "\n",
    "from lhledge import cfgLoader\n",
    "from lhledge import lhlFilters\n",
    "from lhledge import loadGeographicData"
   ]
  },
  {
   "cell_type": "code",
   "execution_count": 2,
   "id": "57e86ab5-d9e3-4985-b7cd-5f33a15ed670",
   "metadata": {
    "tags": []
   },
   "outputs": [],
   "source": [
    "DIST_THREHOLD = 4700\n",
    "\n",
    "# CYCLE = 8820\n",
    "# DATE = 20201002\n",
    "# CYCLE = 4578\n",
    "# DATE = 20160302\n",
    "DOWNSAMPLING = 1"
   ]
  },
  {
   "cell_type": "code",
   "execution_count": 3,
   "id": "b7751e12-0fdf-4882-a724-918080889f5e",
   "metadata": {
    "tags": []
   },
   "outputs": [],
   "source": [
    "N_PROCS = multiprocessing.cpu_count() * 2"
   ]
  },
  {
   "cell_type": "code",
   "execution_count": 4,
   "id": "2d6cd113-69f5-42f9-8592-cf08c4c55b7c",
   "metadata": {
    "tags": []
   },
   "outputs": [],
   "source": [
    "# Change directory to run from the root dir of the project\n",
    "path = rootpath.detect(pattern=\".git\")\n",
    "os.chdir(path)\n",
    "\n",
    "# load config file\n",
    "cfg = cfgLoader.cfgLoader(\"config.yml\")"
   ]
  },
  {
   "cell_type": "code",
   "execution_count": 5,
   "id": "473dfca9-6b95-4bfc-8360-1f1b07c1d63e",
   "metadata": {
    "tags": []
   },
   "outputs": [],
   "source": [
    "def __extract_from_warts_filename(warts_filename):\n",
    "    \"\"\"\n",
    "    Two file name formats\n",
    "        1. 2018-present: aep2-ar.team-probing.c008820.20201002.json.gz\n",
    "        2. 2008-2018:    daily.l7.t2.c004578.20160304.cmn-ma.json.gz\n",
    "    \"\"\"\n",
    "    if \"daily\" in warts_filename:\n",
    "        _, _, team,_cyclye, date, mon, _, _ = warts_filename.split(\"/\")[-1].split(\".\")\n",
    "    else:\n",
    "        mon, _, _cyclye, date, _, _ = warts_filename.split(\"/\")[-1].split(\".\")\n",
    "\n",
    "    return mon, int(_cyclye[1:]), int(date)\n",
    "\n",
    "def geneate_intput_filename(warts_filename, s, downsampling):\n",
    "    mon, cycle, date = __extract_from_warts_filename(warts_filename)\n",
    "    \n",
    "    path = cfg[\"paths\"][\"ark\"][\"all-links-detection\"].format(mon, date, cycle, f\"1-{downsampling}\")\n",
    "    filename = f\"{path}/{mon}_{cycle}_{date}_1-{downsampling}_{s}.csv.gz\"\n",
    "    # print(filename)\n",
    "\n",
    "    # _create_dir(filename)\n",
    "    return filename"
   ]
  },
  {
   "cell_type": "code",
   "execution_count": 6,
   "id": "9c78a4bf-37d6-4a3c-9783-73deb6d6bc82",
   "metadata": {
    "tags": []
   },
   "outputs": [],
   "source": [
    "df = pd.DataFrame()"
   ]
  },
  {
   "cell_type": "code",
   "execution_count": 7,
   "id": "414a3ea9-3224-4091-aec3-76ab3edbdab4",
   "metadata": {
    "tags": []
   },
   "outputs": [],
   "source": [
    "for i in range(len(cfg[\"snapshots\"]))[-6:-3]:\n",
    "\n",
    "    snapshot = cfg[\"snapshots\"][i]\n",
    "\n",
    "    DATE = f'{snapshot[\"date\"][\"yyyy\"]:04d}{snapshot[\"date\"][\"mm\"]:02d}{snapshot[\"date\"][\"dd\"]:02d}'\n",
    "\n",
    "    traceroutes_files = glob.glob(f'{cfg[\"paths\"][\"ark\"][\"traceroute-measurements\"][\"json\"].format(snapshot[\"traceroute-measurements\"][\"cycle\"])}/*.json.gz')\n",
    "\n",
    "    for traceroutes_file in traceroutes_files:\n",
    "        for n_slice in range(N_PROCS):\n",
    "            input_filename = geneate_intput_filename(traceroutes_file, n_slice, DOWNSAMPLING)\n",
    "            tmp = pd.read_csv(input_filename, compression=\"gzip\")\n",
    "\n",
    "            df = pd.concat([df, tmp])\n",
    "            df = df.drop_duplicates()"
   ]
  },
  {
   "cell_type": "code",
   "execution_count": 8,
   "id": "0a3df410-f4eb-473f-b2ad-16a1c114af09",
   "metadata": {
    "tags": []
   },
   "outputs": [
    {
     "data": {
      "text/html": [
       "<div>\n",
       "<style scoped>\n",
       "    .dataframe tbody tr th:only-of-type {\n",
       "        vertical-align: middle;\n",
       "    }\n",
       "\n",
       "    .dataframe tbody tr th {\n",
       "        vertical-align: top;\n",
       "    }\n",
       "\n",
       "    .dataframe thead th {\n",
       "        text-align: right;\n",
       "    }\n",
       "</style>\n",
       "<table border=\"1\" class=\"dataframe\">\n",
       "  <thead>\n",
       "    <tr style=\"text-align: right;\">\n",
       "      <th></th>\n",
       "      <th>near_side_node_id</th>\n",
       "      <th>far_side_node_id</th>\n",
       "    </tr>\n",
       "  </thead>\n",
       "  <tbody>\n",
       "    <tr>\n",
       "      <th>0</th>\n",
       "      <td>5331758</td>\n",
       "      <td>5331790</td>\n",
       "    </tr>\n",
       "    <tr>\n",
       "      <th>1</th>\n",
       "      <td>5331790</td>\n",
       "      <td>823371</td>\n",
       "    </tr>\n",
       "    <tr>\n",
       "      <th>2</th>\n",
       "      <td>823371</td>\n",
       "      <td>432518</td>\n",
       "    </tr>\n",
       "    <tr>\n",
       "      <th>3</th>\n",
       "      <td>432518</td>\n",
       "      <td>465634</td>\n",
       "    </tr>\n",
       "    <tr>\n",
       "      <th>4</th>\n",
       "      <td>465634</td>\n",
       "      <td>313524</td>\n",
       "    </tr>\n",
       "  </tbody>\n",
       "</table>\n",
       "</div>"
      ],
      "text/plain": [
       "   near_side_node_id  far_side_node_id\n",
       "0            5331758           5331790\n",
       "1            5331790            823371\n",
       "2             823371            432518\n",
       "3             432518            465634\n",
       "4             465634            313524"
      ]
     },
     "execution_count": 8,
     "metadata": {},
     "output_type": "execute_result"
    }
   ],
   "source": [
    "df.head()"
   ]
  },
  {
   "cell_type": "code",
   "execution_count": 9,
   "id": "078e7d7f-748a-491d-915e-139177134f68",
   "metadata": {
    "tags": []
   },
   "outputs": [
    {
     "data": {
      "text/plain": [
       "(3187868, 2)"
      ]
     },
     "execution_count": 9,
     "metadata": {},
     "output_type": "execute_result"
    }
   ],
   "source": [
    "df.shape"
   ]
  },
  {
   "cell_type": "code",
   "execution_count": 10,
   "id": "3e85977b-a391-456c-94c3-d79a99105395",
   "metadata": {
    "tags": []
   },
   "outputs": [
    {
     "data": {
      "text/plain": [
       "(2709113, 2)"
      ]
     },
     "execution_count": 10,
     "metadata": {},
     "output_type": "execute_result"
    }
   ],
   "source": [
    "df.loc[(df[\"near_side_node_id\"] > 0) \n",
    "       & (df[\"far_side_node_id\"] > 0)] \\\n",
    "    .drop_duplicates() \\\n",
    "    .shape"
   ]
  },
  {
   "cell_type": "code",
   "execution_count": 11,
   "id": "46920036-012f-423c-bfb3-df74c9421a0e",
   "metadata": {
    "tags": []
   },
   "outputs": [],
   "source": [
    "G = nx.from_pandas_edgelist(\n",
    "    df.loc[(df[\"near_side_node_id\"] > 0) & (df[\"far_side_node_id\"] > 0)] \\\n",
    "      .drop_duplicates([\"near_side_node_id\", \"far_side_node_id\",]),\n",
    "    \"near_side_node_id\",\n",
    "    \"far_side_node_id\",\n",
    ")"
   ]
  },
  {
   "cell_type": "code",
   "execution_count": 12,
   "id": "9ede3f7e-5c54-4b5b-9ec2-c8a594091ff7",
   "metadata": {
    "tags": []
   },
   "outputs": [
    {
     "data": {
      "text/plain": [
       "2674577"
      ]
     },
     "execution_count": 12,
     "metadata": {},
     "output_type": "execute_result"
    }
   ],
   "source": [
    "len(G.edges())"
   ]
  },
  {
   "cell_type": "code",
   "execution_count": null,
   "id": "1ce65907-7fb4-43e3-be0c-d2ba48220c12",
   "metadata": {},
   "outputs": [],
   "source": []
  }
 ],
 "metadata": {
  "kernelspec": {
   "display_name": ".lhl-edge",
   "language": "python",
   "name": ".lhl-edge"
  },
  "language_info": {
   "codemirror_mode": {
    "name": "ipython",
    "version": 3
   },
   "file_extension": ".py",
   "mimetype": "text/x-python",
   "name": "python",
   "nbconvert_exporter": "python",
   "pygments_lexer": "ipython3",
   "version": "3.8.10"
  }
 },
 "nbformat": 4,
 "nbformat_minor": 5
}
