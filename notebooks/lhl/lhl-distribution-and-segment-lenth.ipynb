{
 "cells": [
  {
   "cell_type": "code",
   "execution_count": 1,
   "metadata": {
    "pycharm": {
     "name": "#%%\n"
    }
   },
   "outputs": [],
   "source": [
    "import json\n",
    "import os\n",
    "import itertools\n",
    "\n",
    "import rootpath\n",
    "import numpy as np\n",
    "import pandas as pd\n",
    "import networkx as nx\n",
    "import matplotlib\n",
    "# matplotlib.use('Agg') # Must be before importing matplotlib.pyplot or pylab!\n",
    "import matplotlib.pyplot as plt\n",
    "import matplotlib.colors as colors\n",
    "import matplotlib.cm as cm\n",
    "import geopandas as gpd\n",
    "import pycountry as pc\n",
    "import pycountry_convert as pcc\n",
    "\n",
    "from lhledge import cfgLoader\n",
    "from lhledge import lhlFilters\n",
    "from lhledge import loadGeographicData"
   ]
  },
  {
   "cell_type": "code",
   "execution_count": null,
   "metadata": {
    "pycharm": {
     "name": "#%%\n"
    }
   },
   "outputs": [],
   "source": []
  },
  {
   "cell_type": "code",
   "execution_count": 2,
   "metadata": {
    "pycharm": {
     "name": "#%%\n"
    }
   },
   "outputs": [],
   "source": [
    "CYCLE = 10020\n",
    "DOWNSAMPLING = 1"
   ]
  },
  {
   "cell_type": "code",
   "execution_count": 3,
   "metadata": {
    "pycharm": {
     "name": "#%%\n"
    }
   },
   "outputs": [],
   "source": [
    "def ecdf(data, w=[]):\n",
    "    \"\"\" Compute ECDF \"\"\"\n",
    "    if len(w) == 0:\n",
    "        w = np.ones(len(data))\n",
    "    #\n",
    "    #     x = np.sort(data)\n",
    "    idx = np.argsort(data).values\n",
    "    #\n",
    "    x = np.array(data)\n",
    "    x = x[idx]\n",
    "    w = w[idx]\n",
    "    #\n",
    "    n = x.size\n",
    "    #     y = np.arange(1, n + 1) / n\n",
    "    y = np.cumsum(w) / sum(w)\n",
    "    return (np.squeeze(x), y)"
   ]
  },
  {
   "cell_type": "code",
   "execution_count": 4,
   "metadata": {
    "pycharm": {
     "name": "#%%\n"
    }
   },
   "outputs": [],
   "source": [
    "def ecdf2(df, field, field_aux):\n",
    "    df = df.sort_values(field)\n",
    "    y = np.cumsum(df.groupby(field)[\"router_id\"].count().values)\n",
    "    y = y / max(y)\n",
    "    x = df.drop_duplicates(field)[field].values\n",
    "    return x, y"
   ]
  },
  {
   "cell_type": "code",
   "execution_count": 5,
   "metadata": {
    "pycharm": {
     "name": "#%%\n"
    }
   },
   "outputs": [],
   "source": [
    "# Change directory to run from the root dir of the project\n",
    "path = rootpath.detect(pattern=\".git\")\n",
    "os.chdir(path)\n",
    "\n",
    "# load config file\n",
    "cfg = cfgLoader.cfgLoader(\"config.yml\")"
   ]
  },
  {
   "cell_type": "code",
   "execution_count": 6,
   "metadata": {},
   "outputs": [],
   "source": [
    "df = pd.read_csv(f\"data/processed/snapshots/{CYCLE}.csv.gz\", compression=\"gzip\")"
   ]
  },
  {
   "cell_type": "code",
   "execution_count": 7,
   "metadata": {},
   "outputs": [
    {
     "data": {
      "text/html": [
       "<div>\n",
       "<style scoped>\n",
       "    .dataframe tbody tr th:only-of-type {\n",
       "        vertical-align: middle;\n",
       "    }\n",
       "\n",
       "    .dataframe tbody tr th {\n",
       "        vertical-align: top;\n",
       "    }\n",
       "\n",
       "    .dataframe thead th {\n",
       "        text-align: right;\n",
       "    }\n",
       "</style>\n",
       "<table border=\"1\" class=\"dataframe\">\n",
       "  <thead>\n",
       "    <tr style=\"text-align: right;\">\n",
       "      <th></th>\n",
       "      <th>cc_src</th>\n",
       "      <th>cc_dst</th>\n",
       "      <th>dist</th>\n",
       "    </tr>\n",
       "  </thead>\n",
       "  <tbody>\n",
       "    <tr>\n",
       "      <th>0</th>\n",
       "      <td>AW</td>\n",
       "      <td>AW</td>\n",
       "      <td>5.225315</td>\n",
       "    </tr>\n",
       "    <tr>\n",
       "      <th>1</th>\n",
       "      <td>AW</td>\n",
       "      <td>AF</td>\n",
       "      <td>13257.810000</td>\n",
       "    </tr>\n",
       "    <tr>\n",
       "      <th>2</th>\n",
       "      <td>AW</td>\n",
       "      <td>AO</td>\n",
       "      <td>9516.913000</td>\n",
       "    </tr>\n",
       "    <tr>\n",
       "      <th>3</th>\n",
       "      <td>AW</td>\n",
       "      <td>AI</td>\n",
       "      <td>983.268200</td>\n",
       "    </tr>\n",
       "    <tr>\n",
       "      <th>4</th>\n",
       "      <td>AW</td>\n",
       "      <td>AL</td>\n",
       "      <td>9091.742000</td>\n",
       "    </tr>\n",
       "  </tbody>\n",
       "</table>\n",
       "</div>"
      ],
      "text/plain": [
       "  cc_src cc_dst          dist\n",
       "0     AW     AW      5.225315\n",
       "1     AW     AF  13257.810000\n",
       "2     AW     AO   9516.913000\n",
       "3     AW     AI    983.268200\n",
       "4     AW     AL   9091.742000"
      ]
     },
     "execution_count": 7,
     "metadata": {},
     "output_type": "execute_result"
    }
   ],
   "source": [
    "cepii = loadGeographicData.load_inter_country_distances(\"data/external/cepii/dist_cepii.csv\", \n",
    "                                                        \"data/processed/min-cc-dist/min_cc_dist.csv\")\n",
    "cepii.head()"
   ]
  },
  {
   "cell_type": "code",
   "execution_count": 8,
   "metadata": {
    "pycharm": {
     "name": "#%%\n"
    }
   },
   "outputs": [],
   "source": [
    "G = nx.from_pandas_edgelist(\n",
    "   df.loc[df[\"diff_rtt\"] > 57].drop_duplicates([\"near_node_id\", \"far_node_id\",]),\n",
    "    \"near_node_id\",\n",
    "    \"far_node_id\",\n",
    "    edge_attr='diff_rtt'\n",
    ")\n",
    "\n",
    "nx.set_node_attributes(\n",
    "    G,\n",
    "    pd.Series(\n",
    "        df[\"near_side_cc\"].values,\n",
    "        index=df[\"near_node_id\"]\n",
    "    ).to_dict(),\n",
    "    'cc',\n",
    ")\n",
    "nx.set_node_attributes(\n",
    "    G,\n",
    "    pd.Series(\n",
    "        df[\"far_side_cc\"].values,\n",
    "        index=df[\"far_node_id\"]\n",
    "    ).to_dict(),\n",
    "    'cc',\n",
    ")"
   ]
  },
  {
   "cell_type": "code",
   "execution_count": 9,
   "metadata": {
    "pycharm": {
     "name": "#%%\n"
    }
   },
   "outputs": [],
   "source": [
    "all_vals = []\n",
    "cc_list = []\n",
    "rtt_vals = []\n",
    "for n1, n2, weight  in G.edges(data=True):\n",
    "    cc1 = G.nodes()[n1][\"cc\"]\n",
    "    cc2 = G.nodes()[n2][\"cc\"]\n",
    "    cc_str_1 = f\"{cc1}-{cc2}\"\n",
    "    cc_str_2 = f\"{cc2}-{cc1}\"\n",
    "    if (cc_str_1 not in cc_list) and (cc_str_2 not in cc_list):\n",
    "        cc_list.append(cc_str_1)\n",
    "    rtt_vals.append(weight[\"diff_rtt\"])\n",
    "    all_vals.append((cc1, cc2, weight[\"diff_rtt\"]))"
   ]
  },
  {
   "cell_type": "code",
   "execution_count": 10,
   "metadata": {
    "pycharm": {
     "name": "#%%\n"
    }
   },
   "outputs": [
    {
     "data": {
      "text/html": [
       "<div>\n",
       "<style scoped>\n",
       "    .dataframe tbody tr th:only-of-type {\n",
       "        vertical-align: middle;\n",
       "    }\n",
       "\n",
       "    .dataframe tbody tr th {\n",
       "        vertical-align: top;\n",
       "    }\n",
       "\n",
       "    .dataframe thead th {\n",
       "        text-align: right;\n",
       "    }\n",
       "</style>\n",
       "<table border=\"1\" class=\"dataframe\">\n",
       "  <thead>\n",
       "    <tr style=\"text-align: right;\">\n",
       "      <th></th>\n",
       "      <th>cc1</th>\n",
       "      <th>cc2</th>\n",
       "      <th>dist</th>\n",
       "    </tr>\n",
       "  </thead>\n",
       "  <tbody>\n",
       "    <tr>\n",
       "      <th>0</th>\n",
       "      <td>AE</td>\n",
       "      <td>CH</td>\n",
       "      <td>4407.826551</td>\n",
       "    </tr>\n",
       "    <tr>\n",
       "      <th>1</th>\n",
       "      <td>CH</td>\n",
       "      <td>JP</td>\n",
       "      <td>9214.366906</td>\n",
       "    </tr>\n",
       "    <tr>\n",
       "      <th>2</th>\n",
       "      <td>AE</td>\n",
       "      <td>DE</td>\n",
       "      <td>4266.720006</td>\n",
       "    </tr>\n",
       "    <tr>\n",
       "      <th>3</th>\n",
       "      <td>DE</td>\n",
       "      <td>US</td>\n",
       "      <td>5297.217204</td>\n",
       "    </tr>\n",
       "    <tr>\n",
       "      <th>4</th>\n",
       "      <td>AE</td>\n",
       "      <td>US</td>\n",
       "      <td>10133.024219</td>\n",
       "    </tr>\n",
       "  </tbody>\n",
       "</table>\n",
       "</div>"
      ],
      "text/plain": [
       "  cc1 cc2          dist\n",
       "0  AE  CH   4407.826551\n",
       "1  CH  JP   9214.366906\n",
       "2  AE  DE   4266.720006\n",
       "3  DE  US   5297.217204\n",
       "4  AE  US  10133.024219"
      ]
     },
     "execution_count": 10,
     "metadata": {},
     "output_type": "execute_result"
    }
   ],
   "source": [
    "l = []\n",
    "\n",
    "for str_cc in cc_list:\n",
    "    cc1, cc2 = str_cc.split(\"-\")\n",
    "    l.append((cc1, cc2))\n",
    "\n",
    "cc_graph = pd.DataFrame(l, columns=[\"cc1\", \"cc2\"])\n",
    "cc_graph = cc_graph.join(\n",
    "    cepii[[\"cc_src\", \"cc_dst\", \"dist\"]].set_index([\"cc_src\", \"cc_dst\"]),\n",
    "    on=[\"cc1\", \"cc2\"],\n",
    "    how='left',\n",
    "    lsuffix='_left',\n",
    "    rsuffix='_right'\n",
    ")\n",
    "cc_graph.head()\n"
   ]
  },
  {
   "cell_type": "code",
   "execution_count": 11,
   "metadata": {
    "pycharm": {
     "name": "#%%\n"
    }
   },
   "outputs": [
    {
     "data": {
      "text/html": [
       "<div>\n",
       "<style scoped>\n",
       "    .dataframe tbody tr th:only-of-type {\n",
       "        vertical-align: middle;\n",
       "    }\n",
       "\n",
       "    .dataframe tbody tr th {\n",
       "        vertical-align: top;\n",
       "    }\n",
       "\n",
       "    .dataframe thead th {\n",
       "        text-align: right;\n",
       "    }\n",
       "</style>\n",
       "<table border=\"1\" class=\"dataframe\">\n",
       "  <thead>\n",
       "    <tr style=\"text-align: right;\">\n",
       "      <th></th>\n",
       "      <th>cc1</th>\n",
       "      <th>cc2</th>\n",
       "      <th>diff_rtt</th>\n",
       "      <th>dist</th>\n",
       "    </tr>\n",
       "  </thead>\n",
       "  <tbody>\n",
       "    <tr>\n",
       "      <th>0</th>\n",
       "      <td>AE</td>\n",
       "      <td>CH</td>\n",
       "      <td>114.876</td>\n",
       "      <td>4407.826551</td>\n",
       "    </tr>\n",
       "    <tr>\n",
       "      <th>1</th>\n",
       "      <td>CH</td>\n",
       "      <td>JP</td>\n",
       "      <td>209.294</td>\n",
       "      <td>9214.366906</td>\n",
       "    </tr>\n",
       "    <tr>\n",
       "      <th>2</th>\n",
       "      <td>CH</td>\n",
       "      <td>JP</td>\n",
       "      <td>211.329</td>\n",
       "      <td>9214.366906</td>\n",
       "    </tr>\n",
       "    <tr>\n",
       "      <th>3</th>\n",
       "      <td>AE</td>\n",
       "      <td>DE</td>\n",
       "      <td>67.622</td>\n",
       "      <td>4266.720006</td>\n",
       "    </tr>\n",
       "    <tr>\n",
       "      <th>4</th>\n",
       "      <td>DE</td>\n",
       "      <td>US</td>\n",
       "      <td>80.180</td>\n",
       "      <td>5297.217204</td>\n",
       "    </tr>\n",
       "  </tbody>\n",
       "</table>\n",
       "</div>"
      ],
      "text/plain": [
       "  cc1 cc2  diff_rtt         dist\n",
       "0  AE  CH   114.876  4407.826551\n",
       "1  CH  JP   209.294  9214.366906\n",
       "2  CH  JP   211.329  9214.366906\n",
       "3  AE  DE    67.622  4266.720006\n",
       "4  DE  US    80.180  5297.217204"
      ]
     },
     "execution_count": 11,
     "metadata": {},
     "output_type": "execute_result"
    }
   ],
   "source": [
    "all_vals = pd.DataFrame(all_vals, columns=[\"cc1\", \"cc2\", \"diff_rtt\"])\n",
    "all_vals = all_vals.join(\n",
    "    cepii[[\"cc_src\", \"cc_dst\", \"dist\"]].set_index([\"cc_src\", \"cc_dst\"]),\n",
    "    on=[\"cc1\", \"cc2\"],\n",
    "    how='left',\n",
    "    lsuffix='_left',\n",
    "    rsuffix='_right'\n",
    ")\n",
    "all_vals.head()"
   ]
  },
  {
   "cell_type": "code",
   "execution_count": 12,
   "metadata": {
    "pycharm": {
     "name": "#%%\n"
    }
   },
   "outputs": [
    {
     "name": "stdout",
     "output_type": "stream",
     "text": [
      "nodes: 31773\n",
      "edges: 85620\n",
      "countries: 170\n"
     ]
    }
   ],
   "source": [
    "H = nx.from_pandas_edgelist(\n",
    "   cc_graph,\n",
    "    \"cc1\",\n",
    "    \"cc2\",\n",
    ")\n",
    "\n",
    "print(f\"nodes: {len(G.nodes())}\")\n",
    "print(f\"edges: {len(G.edges())}\")\n",
    "print(f\"countries: {len(H.nodes())}\")\n",
    "\n"
   ]
  },
  {
   "cell_type": "code",
   "execution_count": 13,
   "metadata": {
    "pycharm": {
     "name": "#%%\n"
    }
   },
   "outputs": [],
   "source": [
    "G0 = nx.from_pandas_edgelist(\n",
    "   df.drop_duplicates([\"near_node_id\", \"far_node_id\",]),\n",
    "    \"near_node_id\",\n",
    "    \"far_node_id\",\n",
    "    edge_attr='diff_rtt'\n",
    ")"
   ]
  },
  {
   "cell_type": "code",
   "execution_count": 14,
   "metadata": {
    "pycharm": {
     "name": "#%%\n"
    }
   },
   "outputs": [],
   "source": [
    "G1 = nx.from_pandas_edgelist(\n",
    "   df,\n",
    "    \"near_node_id\",\n",
    "    \"far_node_id\",\n",
    "    edge_attr='diff_rtt'\n",
    ")"
   ]
  },
  {
   "cell_type": "code",
   "execution_count": 15,
   "metadata": {
    "pycharm": {
     "name": "#%%\n"
    }
   },
   "outputs": [
    {
     "data": {
      "text/plain": [
       "85620"
      ]
     },
     "execution_count": 15,
     "metadata": {},
     "output_type": "execute_result"
    }
   ],
   "source": [
    "len(G0.edges())"
   ]
  },
  {
   "cell_type": "code",
   "execution_count": 16,
   "metadata": {
    "pycharm": {
     "name": "#%%\n"
    }
   },
   "outputs": [
    {
     "data": {
      "text/plain": [
       "85620"
      ]
     },
     "execution_count": 16,
     "metadata": {},
     "output_type": "execute_result"
    }
   ],
   "source": [
    "len(G1.edges())"
   ]
  },
  {
   "cell_type": "code",
   "execution_count": 17,
   "metadata": {
    "pycharm": {
     "name": "#%%\n"
    }
   },
   "outputs": [],
   "source": [
    "G = nx.from_pandas_edgelist(\n",
    "   df.drop_duplicates([\"near_node_id\", \"far_node_id\",]),\n",
    "    \"near_node_id\",\n",
    "    \"far_node_id\",\n",
    "    edge_attr='diff_rtt'\n",
    ")\n",
    "\n",
    "nx.set_node_attributes(\n",
    "    G,\n",
    "    pd.Series(\n",
    "        df[\"near_side_cc\"].values,\n",
    "        index=df[\"near_node_id\"]\n",
    "    ).to_dict(),\n",
    "    'cc',\n",
    ")\n",
    "nx.set_node_attributes(\n",
    "    G,\n",
    "    pd.Series(\n",
    "        df[\"far_side_cc\"].values,\n",
    "        index=df[\"far_node_id\"]\n",
    "    ).to_dict(),\n",
    "    'cc',\n",
    ")\n"
   ]
  },
  {
   "cell_type": "code",
   "execution_count": 18,
   "metadata": {
    "pycharm": {
     "name": "#%%\n"
    }
   },
   "outputs": [],
   "source": [
    "\n",
    "hits = {}\n",
    "\n",
    "for n1, n2, weight  in G.edges(data=True):\n",
    "    cc1 = G.nodes()[n1][\"cc\"]\n",
    "    cc2 = G.nodes()[n2][\"cc\"]\n",
    "\n",
    "    cc1_3 = pc.countries.get(alpha_2=cc1).alpha_3\n",
    "    cc2_3 = pc.countries.get(alpha_2=cc2).alpha_3\n",
    "\n",
    "    if cc1_3 not in hits.keys():\n",
    "        hits[cc1_3] = 0\n",
    "    if cc2_3 not in hits.keys():\n",
    "        hits[cc2_3] = 0\n",
    "\n",
    "    hits[cc1_3] += 1\n",
    "    hits[cc2_3] += 1"
   ]
  },
  {
   "cell_type": "code",
   "execution_count": 19,
   "metadata": {
    "pycharm": {
     "name": "#%%\n"
    }
   },
   "outputs": [
    {
     "data": {
      "text/html": [
       "<div>\n",
       "<style scoped>\n",
       "    .dataframe tbody tr th:only-of-type {\n",
       "        vertical-align: middle;\n",
       "    }\n",
       "\n",
       "    .dataframe tbody tr th {\n",
       "        vertical-align: top;\n",
       "    }\n",
       "\n",
       "    .dataframe thead th {\n",
       "        text-align: right;\n",
       "    }\n",
       "</style>\n",
       "<table border=\"1\" class=\"dataframe\">\n",
       "  <thead>\n",
       "    <tr style=\"text-align: right;\">\n",
       "      <th></th>\n",
       "      <th>iso_a3</th>\n",
       "      <th>cnt</th>\n",
       "    </tr>\n",
       "  </thead>\n",
       "  <tbody>\n",
       "    <tr>\n",
       "      <th>0</th>\n",
       "      <td>ARE</td>\n",
       "      <td>141</td>\n",
       "    </tr>\n",
       "    <tr>\n",
       "      <th>1</th>\n",
       "      <td>CHE</td>\n",
       "      <td>1339</td>\n",
       "    </tr>\n",
       "    <tr>\n",
       "      <th>2</th>\n",
       "      <td>JPN</td>\n",
       "      <td>1497</td>\n",
       "    </tr>\n",
       "    <tr>\n",
       "      <th>3</th>\n",
       "      <td>DEU</td>\n",
       "      <td>30906</td>\n",
       "    </tr>\n",
       "    <tr>\n",
       "      <th>4</th>\n",
       "      <td>USA</td>\n",
       "      <td>68432</td>\n",
       "    </tr>\n",
       "  </tbody>\n",
       "</table>\n",
       "</div>"
      ],
      "text/plain": [
       "  iso_a3    cnt\n",
       "0    ARE    141\n",
       "1    CHE   1339\n",
       "2    JPN   1497\n",
       "3    DEU  30906\n",
       "4    USA  68432"
      ]
     },
     "execution_count": 19,
     "metadata": {},
     "output_type": "execute_result"
    }
   ],
   "source": [
    "cc3_edges = pd.DataFrame(hits.items(), columns = [\"iso_a3\", \"cnt\"])\n",
    "cc3_edges.head()"
   ]
  },
  {
   "cell_type": "code",
   "execution_count": 20,
   "metadata": {
    "tags": []
   },
   "outputs": [],
   "source": [
    "def get_continent(cc):\n",
    "    if cc == \"\":\n",
    "        return \"\"\n",
    "\n",
    "    try:\n",
    "        country = pc.countries.get(alpha_2=cc)\n",
    "        continent = pcc.country_alpha2_to_continent_code(country.alpha_2)\n",
    "        return continent\n",
    "    except:\n",
    "        return \"\""
   ]
  },
  {
   "cell_type": "code",
   "execution_count": 21,
   "metadata": {
    "tags": []
   },
   "outputs": [],
   "source": [
    "segments = gpd.read_file(cfg[\"paths\"][\"segment-length\"])\n",
    "segments[\"from_continent\"] = segments[\"from_country\"].map(get_continent)\n",
    "segments[\"to_continent\"] = segments[\"to_country\"].map(get_continent)"
   ]
  },
  {
   "cell_type": "code",
   "execution_count": 22,
   "metadata": {
    "tags": []
   },
   "outputs": [
    {
     "data": {
      "text/html": [
       "<div>\n",
       "<style scoped>\n",
       "    .dataframe tbody tr th:only-of-type {\n",
       "        vertical-align: middle;\n",
       "    }\n",
       "\n",
       "    .dataframe tbody tr th {\n",
       "        vertical-align: top;\n",
       "    }\n",
       "\n",
       "    .dataframe thead th {\n",
       "        text-align: right;\n",
       "    }\n",
       "</style>\n",
       "<table border=\"1\" class=\"dataframe\">\n",
       "  <thead>\n",
       "    <tr style=\"text-align: right;\">\n",
       "      <th></th>\n",
       "      <th>cable_id</th>\n",
       "      <th>from_city</th>\n",
       "      <th>from_state</th>\n",
       "      <th>from_country</th>\n",
       "      <th>to_city</th>\n",
       "      <th>to_state</th>\n",
       "      <th>to_country</th>\n",
       "      <th>dist</th>\n",
       "      <th>cable_wkt</th>\n",
       "      <th>geometry</th>\n",
       "      <th>from_continent</th>\n",
       "      <th>to_continent</th>\n",
       "    </tr>\n",
       "  </thead>\n",
       "  <tbody>\n",
       "    <tr>\n",
       "      <th>0</th>\n",
       "      <td>adria-1</td>\n",
       "      <td>Durrës</td>\n",
       "      <td>Durrës</td>\n",
       "      <td>AL</td>\n",
       "      <td>Dubrovnik</td>\n",
       "      <td>Dubrovacko-Neretvanska</td>\n",
       "      <td>HR</td>\n",
       "      <td>196.0955672734357</td>\n",
       "      <td>MULTILINESTRING ((19.4482079658 41.317799702</td>\n",
       "      <td>None</td>\n",
       "      <td>EU</td>\n",
       "      <td>EU</td>\n",
       "    </tr>\n",
       "    <tr>\n",
       "      <th>1</th>\n",
       "      <td>adria-1</td>\n",
       "      <td>Durrës</td>\n",
       "      <td>Durrës</td>\n",
       "      <td>AL</td>\n",
       "      <td>Kerkira</td>\n",
       "      <td>Ionioi Nisoi</td>\n",
       "      <td>GR</td>\n",
       "      <td>246.79221890016078</td>\n",
       "      <td>MULTILINESTRING ((19.4482079658 41.317799702</td>\n",
       "      <td>None</td>\n",
       "      <td>EU</td>\n",
       "      <td>EU</td>\n",
       "    </tr>\n",
       "    <tr>\n",
       "      <th>2</th>\n",
       "      <td>adria-1</td>\n",
       "      <td>Dubrovnik</td>\n",
       "      <td>Dubrovacko-Neretvanska</td>\n",
       "      <td>HR</td>\n",
       "      <td>Durrës</td>\n",
       "      <td>Durrës</td>\n",
       "      <td>AL</td>\n",
       "      <td>196.0955672734357</td>\n",
       "      <td>MULTILINESTRING ((18.0913915595 42.6609476919</td>\n",
       "      <td>None</td>\n",
       "      <td>EU</td>\n",
       "      <td>EU</td>\n",
       "    </tr>\n",
       "    <tr>\n",
       "      <th>3</th>\n",
       "      <td>adria-1</td>\n",
       "      <td>Dubrovnik</td>\n",
       "      <td>Dubrovacko-Neretvanska</td>\n",
       "      <td>HR</td>\n",
       "      <td>Kerkira</td>\n",
       "      <td>Ionioi Nisoi</td>\n",
       "      <td>GR</td>\n",
       "      <td>442.88778617359645</td>\n",
       "      <td>MULTILINESTRING ((18.0913915595 42.6609476919</td>\n",
       "      <td>None</td>\n",
       "      <td>EU</td>\n",
       "      <td>EU</td>\n",
       "    </tr>\n",
       "    <tr>\n",
       "      <th>4</th>\n",
       "      <td>adria-1</td>\n",
       "      <td>Kerkira</td>\n",
       "      <td>Ionioi Nisoi</td>\n",
       "      <td>GR</td>\n",
       "      <td>Durrës</td>\n",
       "      <td>Durrës</td>\n",
       "      <td>AL</td>\n",
       "      <td>246.7922189001608</td>\n",
       "      <td>MULTILINESTRING ((19.9147427965 39.615422993</td>\n",
       "      <td>None</td>\n",
       "      <td>EU</td>\n",
       "      <td>EU</td>\n",
       "    </tr>\n",
       "  </tbody>\n",
       "</table>\n",
       "</div>"
      ],
      "text/plain": [
       "  cable_id  from_city              from_state from_country    to_city  \\\n",
       "0  adria-1     Durrës                  Durrës           AL  Dubrovnik   \n",
       "1  adria-1     Durrës                  Durrës           AL    Kerkira   \n",
       "2  adria-1  Dubrovnik  Dubrovacko-Neretvanska           HR     Durrës   \n",
       "3  adria-1  Dubrovnik  Dubrovacko-Neretvanska           HR    Kerkira   \n",
       "4  adria-1    Kerkira            Ionioi Nisoi           GR     Durrës   \n",
       "\n",
       "                 to_state to_country                dist  \\\n",
       "0  Dubrovacko-Neretvanska         HR   196.0955672734357   \n",
       "1            Ionioi Nisoi         GR  246.79221890016078   \n",
       "2                  Durrës         AL   196.0955672734357   \n",
       "3            Ionioi Nisoi         GR  442.88778617359645   \n",
       "4                  Durrës         AL   246.7922189001608   \n",
       "\n",
       "                                       cable_wkt geometry from_continent  \\\n",
       "0   MULTILINESTRING ((19.4482079658 41.317799702     None             EU   \n",
       "1   MULTILINESTRING ((19.4482079658 41.317799702     None             EU   \n",
       "2  MULTILINESTRING ((18.0913915595 42.6609476919     None             EU   \n",
       "3  MULTILINESTRING ((18.0913915595 42.6609476919     None             EU   \n",
       "4   MULTILINESTRING ((19.9147427965 39.615422993     None             EU   \n",
       "\n",
       "  to_continent  \n",
       "0           EU  \n",
       "1           EU  \n",
       "2           EU  \n",
       "3           EU  \n",
       "4           EU  "
      ]
     },
     "execution_count": 22,
     "metadata": {},
     "output_type": "execute_result"
    }
   ],
   "source": [
    "segments.head()"
   ]
  },
  {
   "cell_type": "code",
   "execution_count": 23,
   "metadata": {},
   "outputs": [],
   "source": [
    "import matplotlib\n",
    "matplotlib.rcParams['pdf.fonttype'] = 42\n",
    "matplotlib.rcParams['ps.fonttype'] = 42"
   ]
  },
  {
   "cell_type": "code",
   "execution_count": 24,
   "metadata": {
    "tags": []
   },
   "outputs": [
    {
     "name": "stdout",
     "output_type": "stream",
     "text": [
      "130.80599999999998\n",
      "7076.108023702327\n"
     ]
    },
    {
     "data": {
      "image/png": "[encoded data removed]",
      "text/plain": [
       "<Figure size 1000x600 with 1 Axes>"
      ]
     },
     "metadata": {},
     "output_type": "display_data"
    }
   ],
   "source": [
    "m = itertools.cycle([\"o\", \"d\", \"^\", \"s\"])\n",
    "\n",
    "fig, ax = plt.subplots(1, figsize=(10, 6), sharey=True)\n",
    "\n",
    "ax.yaxis.grid(True, linestyle='-', color='#bababa', alpha=0.5, which='both')\n",
    "ax.xaxis.grid(True, linestyle='-', color='#bababa', alpha=0.5, which='both')\n",
    "\n",
    "\n",
    "print(np.median(rtt_vals))\n",
    "ax.plot(\n",
    "    np.sort(rtt_vals),\n",
    "    np.linspace(0, 1, len(rtt_vals)),\n",
    "    marker=next(m),\n",
    "    markevery = int(len(rtt_vals) / 10),\n",
    "    markersize=8,\n",
    "    lw=2,\n",
    "    alpha=0.75,\n",
    "    label=\"LHL RTT distribution\"\n",
    ")\n",
    "\n",
    "x = np.sort(segments.loc[segments[\"from_continent\"] != segments[\"to_continent\"]][\"dist\"].values.astype(float))\n",
    "print(np.median(x))\n",
    "ax.plot(\n",
    "    x / 100,\n",
    "    np.linspace(0, 1, len(x)),\n",
    "    marker=next(m),\n",
    "    markevery = int(len(x) / 10),\n",
    "    markersize=8,\n",
    "    lw=2,\n",
    "    alpha=0.75,\n",
    "    ls=\"--\",\n",
    "    label=\"Intercont. SCN Segments (Latency equiv.)\"\n",
    ")\n",
    "\n",
    "\n",
    "\n",
    "ax.set_yticks(np.arange(0, 1.01, 0.1))\n",
    "ax.set_ylabel('CDF', fontsize=30)\n",
    "ax.set_xlabel('inter-router min RTT [ms]', fontsize=30)\n",
    "ax.tick_params(labelsize=30)\n",
    "ax.set_xlim(0, 300)\n",
    "\n",
    "ax.legend(loc='lower right', ncol=1, frameon=True, fontsize=15,\n",
    "          handletextpad=0.25, columnspacing=0.1, handlelength=1.5)\n",
    "\n",
    "fig.subplots_adjust(hspace=0)\n",
    "fig.tight_layout()\n",
    "\n",
    "# fig.savefig(\"figures/ulh-prevalence/router_level_rtt_dist_3.pdf\")"
   ]
  },
  {
   "cell_type": "code",
   "execution_count": null,
   "metadata": {},
   "outputs": [],
   "source": []
  }
 ],
 "metadata": {
  "kernelspec": {
   "display_name": ".lhl-edge",
   "language": "python",
   "name": ".lhl-edge"
  },
  "language_info": {
   "codemirror_mode": {
    "name": "ipython",
    "version": 3
   },
   "file_extension": ".py",
   "mimetype": "text/x-python",
   "name": "python",
   "nbconvert_exporter": "python",
   "pygments_lexer": "ipython3",
   "version": "3.10.12"
  }
 },
 "nbformat": 4,
 "nbformat_minor": 4
}
