{
 "cells": [
  {
   "cell_type": "code",
   "execution_count": 1,
   "metadata": {},
   "outputs": [],
   "source": [
    "import json\n",
    "import os\n",
    "import itertools\n",
    "\n",
    "import rootpath\n",
    "import numpy as np\n",
    "import pandas as pd\n",
    "import networkx as nx\n",
    "import matplotlib\n",
    "# matplotlib.use('Agg') # Must be before importing matplotlib.pyplot or pylab!\n",
    "import matplotlib.pyplot as plt\n",
    "import matplotlib.colors as colors\n",
    "import geopandas as gpd\n",
    "import pycountry as pc\n",
    "from collections import Counter\n",
    "\n",
    "from lhledge import cfgLoader\n",
    "from lhledge import lhlFilters\n",
    "from lhledge import superrouters\n",
    "from lhledge import loadGeographicData"
   ]
  },
  {
   "cell_type": "code",
   "execution_count": null,
   "metadata": {
    "pycharm": {
     "name": "#%%\n"
    }
   },
   "outputs": [],
   "source": []
  },
  {
   "cell_type": "code",
   "execution_count": 2,
   "metadata": {
    "pycharm": {
     "name": "#%%\n"
    }
   },
   "outputs": [],
   "source": [
    "\n",
    "CYCLE = 8820\n",
    "DATE = 20201002\n",
    "# CYCLE = 4578\n",
    "# DATE = 20160302\n",
    "DOWNSAMPLING = 1"
   ]
  },
  {
   "cell_type": "code",
   "execution_count": 3,
   "metadata": {
    "pycharm": {
     "name": "#%%\n"
    }
   },
   "outputs": [],
   "source": [
    "def ecdf(data, w=[]):\n",
    "    \"\"\" Compute ECDF \"\"\"\n",
    "    if len(w) == 0:\n",
    "        w = np.ones(len(data))\n",
    "    #\n",
    "    #     x = np.sort(data)\n",
    "    idx = np.argsort(data).values\n",
    "    #\n",
    "    x = np.array(data)\n",
    "    x = x[idx]\n",
    "    w = w[idx]\n",
    "    #\n",
    "    n = x.size\n",
    "    #     y = np.arange(1, n + 1) / n\n",
    "    y = np.cumsum(w) / sum(w)\n",
    "    return (np.squeeze(x), y)"
   ]
  },
  {
   "cell_type": "code",
   "execution_count": 4,
   "metadata": {},
   "outputs": [],
   "source": [
    "def _get_max_subgraph(G):\n",
    "    subg = nx.Graph()\n",
    "    subg_size = 0\n",
    "    subprahs = list(G.subgraph(c) for c in nx.connected_components(G))\n",
    "    \n",
    "    for subgraph in list(subprahs):\n",
    "#         print(len(subgraph.nodes()))\n",
    "        if  len(subgraph.nodes()) > subg_size:\n",
    "            subg = subgraph\n",
    "            subg_size = len(subg.nodes())\n",
    "\n",
    "    return subg"
   ]
  },
  {
   "cell_type": "code",
   "execution_count": 5,
   "metadata": {
    "pycharm": {
     "name": "#%%\n"
    }
   },
   "outputs": [],
   "source": [
    "# Change directory to run from the root dir of the project\n",
    "path = rootpath.detect(pattern=\".git\")\n",
    "os.chdir(path)\n",
    "\n",
    "# load config file\n",
    "cfg = cfgLoader.cfgLoader(\"config.yml\")"
   ]
  },
  {
   "cell_type": "code",
   "execution_count": 6,
   "metadata": {},
   "outputs": [],
   "source": [
    "# len(H.nodes())"
   ]
  },
  {
   "cell_type": "markdown",
   "metadata": {
    "pycharm": {
     "name": "#%%\n"
    }
   },
   "source": [
    "# Load data"
   ]
  },
  {
   "cell_type": "markdown",
   "metadata": {},
   "source": [
    "## Geographic data"
   ]
  },
  {
   "cell_type": "code",
   "execution_count": 7,
   "metadata": {},
   "outputs": [
    {
     "name": "stdout",
     "output_type": "stream",
     "text": [
      "4577\t&898\t&9560\t&18026\t&1633\t&5443\t&13723\t&1146\\\\\n",
      "5423\t&1133\t&12355\t&23751\t&1753\t&7618\t&19871\t&1201\\\\\n",
      "6447\t&1084\t&11478\t&20615\t&1698\t&5880\t&15478\t&1078\\\\\n",
      "7616\t&1511\t&18410\t&38243\t&1543\t&12185\t&32309\t&687\\\\\n",
      "8821\t&1298\t&18597\t&40452\t&1446\t&13324\t&35536\t&752\\\\\n",
      "9644\t&1523\t&24425\t&57467\t&2525\t&17232\t&48976\t&1597\\\\\n",
      "10020\t&1605\t&23267\t&52066\t&1965\t&15078\t&40518\t&1207\\\\\n"
     ]
    }
   ],
   "source": [
    "for cycle in [4577, 5423, 6447, 7616, 8821, 9644, 10020]:\n",
    "    \n",
    "    df = pd.read_csv(f\"data/processed/snapshots-longitudinal/{cycle}.csv.gz\", compression=\"gzip\")\n",
    "\n",
    "    G = nx.from_pandas_edgelist(\n",
    "        df.loc[df[\"diff_rtt\"] > 47],\n",
    "        \"near_node_id\",\n",
    "        \"far_node_id\",\n",
    "        edge_attr=\"diff_rtt\"\n",
    "    )\n",
    "\n",
    "    nx.set_node_attributes(\n",
    "        G,\n",
    "        pd.Series(\n",
    "            df[\"near_node_asn\"].values.astype(int),\n",
    "            index=df[\"near_node_id\"]\n",
    "        ).to_dict(),\n",
    "        'asn',\n",
    "    )\n",
    "    nx.set_node_attributes(\n",
    "        G,\n",
    "        pd.Series(\n",
    "            df[\"far_node_asn\"].values.astype(int),\n",
    "            index=df[\"far_node_id\"]\n",
    "        ).to_dict(),\n",
    "        'asn',\n",
    "    )\n",
    "\n",
    "    H = _get_max_subgraph(G)\n",
    "\n",
    "    G_ases = set()\n",
    "    H_ases = set()\n",
    "\n",
    "    for node in G.nodes():\n",
    "        G_ases.add(G.nodes[node][\"asn\"])\n",
    "\n",
    "    for node in H.nodes():\n",
    "        H_ases.add(H.nodes[node][\"asn\"])\n",
    "\n",
    "    print(f\"{cycle}\\t&{nx.number_connected_components(G)}\\t&{len(G.nodes())}\\t&{len(G.edges())}\\t&{len(G_ases)}\\t&{len(H.nodes())}\\t&{len(H.edges())}\\t&{len(H_ases)}\\\\\\\\\")\n",
    "\n",
    "    # plot_graph(G, cycle)\n"
   ]
  },
  {
   "cell_type": "code",
   "execution_count": null,
   "metadata": {},
   "outputs": [],
   "source": []
  },
  {
   "cell_type": "code",
   "execution_count": 8,
   "metadata": {},
   "outputs": [
    {
     "name": "stdout",
     "output_type": "stream",
     "text": [
      "4577\t&898\t&9560\t&18026\t&5443\t&13723\t&179\t&1633\t&2326\t&1406\t&2123\t&1\t&122\t&374\t&122\t&374\\\\\n",
      "5423\t&1133\t&12355\t&23751\t&7618\t&19871\t&177\t&1753\t&2613\t&1528\t&2411\t&1\t&134\t&413\t&134\t&413\\\\\n",
      "6447\t&1084\t&11478\t&20615\t&5880\t&15478\t&164\t&1698\t&2458\t&1492\t&2277\t&1\t&135\t&433\t&135\t&433\\\\\n",
      "7616\t&1511\t&18410\t&38243\t&12185\t&32309\t&325\t&1543\t&2297\t&1135\t&1925\t&1\t&167\t&775\t&167\t&775\\\\\n",
      "8821\t&1298\t&18597\t&40452\t&13324\t&35536\t&253\t&1446\t&2235\t&1104\t&1931\t&1\t&164\t&828\t&164\t&828\\\\\n",
      "9644\t&1523\t&24425\t&57467\t&17232\t&48976\t&250\t&2525\t&3690\t&2202\t&3394\t&1\t&162\t&961\t&162\t&961\\\\\n",
      "10020\t&1605\t&23267\t&52066\t&15078\t&40518\t&269\t&1965\t&2805\t&1611\t&2488\t&1\t&158\t&863\t&158\t&863\\\\\n"
     ]
    }
   ],
   "source": [
    "for cycle in [4577, 5423, 6447, 7616, 8821, 9644, 10020]:\n",
    "    \n",
    "    df = pd.read_csv(f\"data/processed/snapshots-longitudinal/{cycle}.csv.gz\", compression=\"gzip\")\n",
    "\n",
    "    G = nx.from_pandas_edgelist(\n",
    "        df.loc[df[\"diff_rtt\"] > 47],\n",
    "        \"near_node_id\",\n",
    "        \"far_node_id\",\n",
    "        edge_attr=\"diff_rtt\"\n",
    "    )\n",
    "\n",
    "    nx.set_node_attributes(\n",
    "        G,\n",
    "        pd.Series(\n",
    "            df[\"near_node_asn\"].values.astype(int),\n",
    "            index=df[\"near_node_id\"]\n",
    "        ).to_dict(),\n",
    "        'asn',\n",
    "    )\n",
    "    nx.set_node_attributes(\n",
    "        G,\n",
    "        pd.Series(\n",
    "            df[\"far_node_asn\"].values.astype(int),\n",
    "            index=df[\"far_node_id\"]\n",
    "        ).to_dict(),\n",
    "        'asn',\n",
    "    )\n",
    "    \n",
    "    nx.set_node_attributes(\n",
    "        G,\n",
    "        pd.Series(\n",
    "            df[\"near_side_cc\"].values.astype(str),\n",
    "            index=df[\"near_node_id\"]\n",
    "        ).to_dict(),\n",
    "        'cc',\n",
    "    )\n",
    "    nx.set_node_attributes(\n",
    "        G,\n",
    "        pd.Series(\n",
    "            df[\"far_side_cc\"].values.astype(str),\n",
    "            index=df[\"far_node_id\"]\n",
    "        ).to_dict(),\n",
    "        'cc',\n",
    "    )\n",
    "\n",
    "    H = _get_max_subgraph(G)\n",
    "\n",
    "    Gasn = nx.Graph()\n",
    "    \n",
    "    for n1 in G.nodes():\n",
    "        for n2 in G.neighbors(n1):\n",
    "            Gasn.add_edge(G.nodes[n1][\"asn\"], G.nodes[n2][\"asn\"])\n",
    "            \n",
    "    Hasn = _get_max_subgraph(Gasn)\n",
    "    \n",
    "    Gcc = nx.Graph()\n",
    "    \n",
    "    for n1 in G.nodes():\n",
    "        for n2 in G.neighbors(n1):\n",
    "            Gcc.add_edge(G.nodes[n1][\"cc\"], G.nodes[n2][\"cc\"])\n",
    "            \n",
    "    Hcc = _get_max_subgraph(Gcc)\n",
    "    \n",
    "    \n",
    "    \n",
    "    print(f\"{cycle}\\t&{nx.number_connected_components(G)}\\t&{len(G.nodes())}\\t&{len(G.edges())}\\t&{len(H.nodes())}\\t&{len(H.edges())}\\t&{nx.number_connected_components(Gasn)}\\t&{len(Gasn.nodes())}\\t&{len(Gasn.edges())}\\t&{len(Hasn.nodes())}\\t&{len(Hasn.edges())}\\t&{nx.number_connected_components(Gcc)}\\t&{len(Gcc.nodes())}\\t&{len(Gcc.edges())}\\t&{len(Hcc.nodes())}\\t&{len(Hcc.edges())}\\\\\\\\\")\n",
    "\n",
    "    # plot_graph(G, cycle)\n"
   ]
  },
  {
   "cell_type": "code",
   "execution_count": 9,
   "metadata": {
    "tags": []
   },
   "outputs": [
    {
     "name": "stdout",
     "output_type": "stream",
     "text": [
      "4577\t&898\t&9560\t&18026\t&5443\t&13723\t&179\t&1633\t&2326\t&1406\t&2123\t&1\t&122\t&374\t&122\t&374\\\\\n",
      "5423\t&1133\t&12355\t&23751\t&7618\t&19871\t&177\t&1753\t&2613\t&1528\t&2411\t&1\t&134\t&413\t&134\t&413\\\\\n",
      "6447\t&1084\t&11478\t&20615\t&5880\t&15478\t&164\t&1698\t&2458\t&1492\t&2277\t&1\t&135\t&433\t&135\t&433\\\\\n",
      "7616\t&1511\t&18410\t&38243\t&12185\t&32309\t&325\t&1543\t&2297\t&1135\t&1925\t&1\t&167\t&775\t&167\t&775\\\\\n",
      "8821\t&1298\t&18597\t&40452\t&13324\t&35536\t&253\t&1446\t&2235\t&1104\t&1931\t&1\t&164\t&828\t&164\t&828\\\\\n",
      "9644\t&1523\t&24425\t&57467\t&17232\t&48976\t&250\t&2525\t&3690\t&2202\t&3394\t&1\t&162\t&961\t&162\t&961\\\\\n",
      "10020\t&1605\t&23267\t&52066\t&15078\t&40518\t&269\t&1965\t&2805\t&1611\t&2488\t&1\t&158\t&863\t&158\t&863\\\\\n"
     ]
    }
   ],
   "source": [
    "k = []\n",
    "for cycle in [4577, 5423, 6447, 7616, 8821, 9644, 10020]:\n",
    "    \n",
    "    df = pd.read_csv(f\"data/processed/snapshots-longitudinal/{cycle}.csv.gz\", compression=\"gzip\")\n",
    "\n",
    "    G = nx.from_pandas_edgelist(\n",
    "        df.loc[df[\"diff_rtt\"] > 57],\n",
    "        \"near_node_id\",\n",
    "        \"far_node_id\",\n",
    "        edge_attr=\"diff_rtt\"\n",
    "    )\n",
    "\n",
    "    nx.set_node_attributes(\n",
    "        G,\n",
    "        pd.Series(\n",
    "            df[\"near_node_asn\"].values.astype(int),\n",
    "            index=df[\"near_node_id\"]\n",
    "        ).to_dict(),\n",
    "        'asn',\n",
    "    )\n",
    "    nx.set_node_attributes(\n",
    "        G,\n",
    "        pd.Series(\n",
    "            df[\"far_node_asn\"].values.astype(int),\n",
    "            index=df[\"far_node_id\"]\n",
    "        ).to_dict(),\n",
    "        'asn',\n",
    "    )\n",
    "    \n",
    "    nx.set_node_attributes(\n",
    "        G,\n",
    "        pd.Series(\n",
    "            df[\"near_side_cc\"].values.astype(str),\n",
    "            index=df[\"near_node_id\"]\n",
    "        ).to_dict(),\n",
    "        'cc',\n",
    "    )\n",
    "    nx.set_node_attributes(\n",
    "        G,\n",
    "        pd.Series(\n",
    "            df[\"far_side_cc\"].values.astype(str),\n",
    "            index=df[\"far_node_id\"]\n",
    "        ).to_dict(),\n",
    "        'cc',\n",
    "    )\n",
    "\n",
    "    H = _get_max_subgraph(G)\n",
    "\n",
    "    Gasn = nx.Graph()\n",
    "    \n",
    "    for n1 in G.nodes():\n",
    "        for n2 in G.neighbors(n1):\n",
    "            Gasn.add_edge(G.nodes[n1][\"asn\"], G.nodes[n2][\"asn\"])\n",
    "            \n",
    "    Hasn = _get_max_subgraph(Gasn)\n",
    "    \n",
    "    Gcc = nx.Graph()\n",
    "    \n",
    "    for n1 in G.nodes():\n",
    "        for n2 in G.neighbors(n1):\n",
    "            Gcc.add_edge(G.nodes[n1][\"cc\"], G.nodes[n2][\"cc\"])\n",
    "            \n",
    "    Hcc = _get_max_subgraph(Gcc)\n",
    "    \n",
    "    \n",
    "    \n",
    "    print(f\"{cycle}\\t&{nx.number_connected_components(G)}\\t&{len(G.nodes())}\\t&{len(G.edges())}\\t&{len(H.nodes())}\\t&{len(H.edges())}\\t&{nx.number_connected_components(Gasn)}\\t&{len(Gasn.nodes())}\\t&{len(Gasn.edges())}\\t&{len(Hasn.nodes())}\\t&{len(Hasn.edges())}\\t&{nx.number_connected_components(Gcc)}\\t&{len(Gcc.nodes())}\\t&{len(Gcc.edges())}\\t&{len(Hcc.nodes())}\\t&{len(Hcc.edges())}\\\\\\\\\")\n",
    "    k.append((len(H.nodes()) / len(G.nodes()), len(H.edges()) / len(G.edges()), \n",
    "          len(Hasn.nodes()) / len(Gasn.nodes()), len(Hasn.edges()) / len(Gasn.edges()),\n",
    "          len(Hcc.nodes()) / len(Gcc.nodes()), len(Hcc.edges()) / len(Gcc.edges()), ))\n",
    "    # plot_graph(G, cycle)\n"
   ]
  },
  {
   "cell_type": "code",
   "execution_count": 10,
   "metadata": {
    "tags": []
   },
   "outputs": [
    {
     "data": {
      "text/plain": [
       "rn    0.716460\n",
       "re    0.878473\n",
       "an    0.878681\n",
       "ae    0.926363\n",
       "cn    1.000000\n",
       "ce    1.000000\n",
       "dtype: float64"
      ]
     },
     "execution_count": 10,
     "metadata": {},
     "output_type": "execute_result"
    }
   ],
   "source": [
    "pd.DataFrame(k, columns=[\"rn\", \"re\", \"an\", \"ae\", \"cn\", \"ce\"]).max(axis=0)"
   ]
  },
  {
   "cell_type": "code",
   "execution_count": 11,
   "metadata": {
    "tags": []
   },
   "outputs": [
    {
     "data": {
      "text/plain": [
       "rn    0.512284\n",
       "re    0.750813\n",
       "an    0.735580\n",
       "ae    0.838050\n",
       "cn    1.000000\n",
       "ce    1.000000\n",
       "dtype: float64"
      ]
     },
     "execution_count": 11,
     "metadata": {},
     "output_type": "execute_result"
    }
   ],
   "source": [
    "pd.DataFrame(k, columns=[\"rn\", \"re\", \"an\", \"ae\", \"cn\", \"ce\"]).min(axis=0)"
   ]
  },
  {
   "cell_type": "code",
   "execution_count": null,
   "metadata": {},
   "outputs": [],
   "source": []
  },
  {
   "cell_type": "code",
   "execution_count": 12,
   "metadata": {
    "tags": []
   },
   "outputs": [
    {
     "name": "stdout",
     "output_type": "stream",
     "text": [
      "4577 9560 18026\n",
      "5423 12355 23751\n",
      "6447 11478 20615\n",
      "7616 18410 38243\n",
      "8821 18597 40452\n",
      "9644 24425 57467\n",
      "10020 23267 52066\n"
     ]
    }
   ],
   "source": [
    "k = []\n",
    "for cycle in [4577, 5423, 6447, 7616, 8821, 9644, 10020]:\n",
    "    \n",
    "    df = pd.read_csv(f\"data/processed/snapshots-longitudinal/{cycle}.csv.gz\", compression=\"gzip\")\n",
    "\n",
    "    G = nx.from_pandas_edgelist(\n",
    "        df.loc[df[\"diff_rtt\"] > 47],\n",
    "        \"near_node_id\",\n",
    "        \"far_node_id\",\n",
    "        edge_attr=\"diff_rtt\"\n",
    "    )\n",
    "\n",
    "    nx.set_node_attributes(\n",
    "        G,\n",
    "        pd.Series(\n",
    "            df[\"near_node_asn\"].values.astype(int),\n",
    "            index=df[\"near_node_id\"]\n",
    "        ).to_dict(),\n",
    "        'asn',\n",
    "    )\n",
    "    nx.set_node_attributes(\n",
    "        G,\n",
    "        pd.Series(\n",
    "            df[\"far_node_asn\"].values.astype(int),\n",
    "            index=df[\"far_node_id\"]\n",
    "        ).to_dict(),\n",
    "        'asn',\n",
    "    )\n",
    "    \n",
    "    nx.set_node_attributes(\n",
    "        G,\n",
    "        pd.Series(\n",
    "            df[\"near_side_cc\"].values.astype(str),\n",
    "            index=df[\"near_node_id\"]\n",
    "        ).to_dict(),\n",
    "        'cc',\n",
    "    )\n",
    "    nx.set_node_attributes(\n",
    "        G,\n",
    "        pd.Series(\n",
    "            df[\"far_side_cc\"].values.astype(str),\n",
    "            index=df[\"far_node_id\"]\n",
    "        ).to_dict(),\n",
    "        'cc',\n",
    "    )\n",
    "    \n",
    "    print(cycle, len(G.nodes()), len(G.edges()))\n"
   ]
  },
  {
   "cell_type": "code",
   "execution_count": null,
   "metadata": {},
   "outputs": [],
   "source": []
  },
  {
   "cell_type": "code",
   "execution_count": 13,
   "metadata": {},
   "outputs": [
    {
     "name": "stdout",
     "output_type": "stream",
     "text": [
      "0.5693514644351464 0.7612892488627538\n",
      "0.6165924726831242 0.8366384573281125\n",
      "0.5122843700993205 0.7508125151588649\n",
      "0.6618685497012493 0.8448343487697095\n",
      "0.7164596440286067 0.8784732522495797\n",
      "0.7055066530194473 0.8522456366262376\n",
      "0.6480422916577127 0.7782045864863827\n"
     ]
    }
   ],
   "source": [
    "for cycle in [4577, 5423, 6447, 7616, 8821, 9644, 10020]:\n",
    "    \n",
    "    df = pd.read_csv(f\"data/processed/snapshots-longitudinal/{cycle}.csv.gz\", compression=\"gzip\")\n",
    "\n",
    "    G = nx.from_pandas_edgelist(\n",
    "        df.loc[df[\"diff_rtt\"] > 47],\n",
    "        \"near_node_id\",\n",
    "        \"far_node_id\",\n",
    "        edge_attr=\"diff_rtt\"\n",
    "    )\n",
    "\n",
    "    nx.set_node_attributes(\n",
    "        G,\n",
    "        pd.Series(\n",
    "            df[\"near_node_asn\"].values.astype(int),\n",
    "            index=df[\"near_node_id\"]\n",
    "        ).to_dict(),\n",
    "        'asn',\n",
    "    )\n",
    "    nx.set_node_attributes(\n",
    "        G,\n",
    "        pd.Series(\n",
    "            df[\"far_node_asn\"].values.astype(int),\n",
    "            index=df[\"far_node_id\"]\n",
    "        ).to_dict(),\n",
    "        'asn',\n",
    "    )\n",
    "\n",
    "    H = _get_max_subgraph(G)\n",
    "\n",
    "    G_ases = set()\n",
    "    H_ases = set()\n",
    "\n",
    "    for node in G.nodes():\n",
    "        G_ases.add(G.nodes[node][\"asn\"])\n",
    "\n",
    "    for node in H.nodes():\n",
    "        H_ases.add(H.nodes[node][\"asn\"])\n",
    "\n",
    "        \n",
    "    print(len(H.nodes())/ len(G.nodes()), len(H.edges())/ len(G.edges()))\n",
    "    # plot_graph(G, cycle)\n"
   ]
  },
  {
   "cell_type": "code",
   "execution_count": 14,
   "metadata": {},
   "outputs": [
    {
     "name": "stdout",
     "output_type": "stream",
     "text": [
      "4577 0.5693514644351464 0.7612892488627538\n",
      "5423 0.6165924726831242 0.8366384573281125\n",
      "6447 0.5122843700993205 0.7508125151588649\n",
      "7616 0.6618685497012493 0.8448343487697095\n",
      "8821 0.7164596440286067 0.8784732522495797\n",
      "9644 0.7055066530194473 0.8522456366262376\n",
      "10020 0.6480422916577127 0.7782045864863827\n"
     ]
    }
   ],
   "source": [
    "for cycle in [4577, 5423, 6447, 7616, 8821, 9644, 10020]:\n",
    "    \n",
    "    df = pd.read_csv(f\"data/processed/snapshots-longitudinal/{cycle}.csv.gz\", compression=\"gzip\")\n",
    "\n",
    "    G = nx.from_pandas_edgelist(\n",
    "        df.loc[df[\"diff_rtt\"] > 47],\n",
    "        \"near_node_id\",\n",
    "        \"far_node_id\",\n",
    "        edge_attr=\"diff_rtt\"\n",
    "    )\n",
    "\n",
    "    nx.set_node_attributes(\n",
    "        G,\n",
    "        pd.Series(\n",
    "            df[\"near_node_asn\"].values.astype(int),\n",
    "            index=df[\"near_node_id\"]\n",
    "        ).to_dict(),\n",
    "        'asn',\n",
    "    )\n",
    "    nx.set_node_attributes(\n",
    "        G,\n",
    "        pd.Series(\n",
    "            df[\"far_node_asn\"].values.astype(int),\n",
    "            index=df[\"far_node_id\"]\n",
    "        ).to_dict(),\n",
    "        'asn',\n",
    "    )\n",
    "\n",
    "    H = _get_max_subgraph(G)\n",
    "\n",
    "    G_ases = set()\n",
    "    H_ases = set()\n",
    "\n",
    "    for node in G.nodes():\n",
    "        G_ases.add(G.nodes[node][\"asn\"])\n",
    "\n",
    "    for node in H.nodes():\n",
    "        H_ases.add(H.nodes[node][\"asn\"])\n",
    "        \n",
    "    print(f\"{cycle} {len(H.nodes()) / len(G.nodes())} {len(H.edges()) / len(G.edges())}\")\n",
    "\n",
    "    # plot_graph(G, cycle)\n"
   ]
  }
 ],
 "metadata": {
  "kernelspec": {
   "display_name": ".lhl-edge",
   "language": "python",
   "name": ".lhl-edge"
  },
  "language_info": {
   "codemirror_mode": {
    "name": "ipython",
    "version": 3
   },
   "file_extension": ".py",
   "mimetype": "text/x-python",
   "name": "python",
   "nbconvert_exporter": "python",
   "pygments_lexer": "ipython3",
   "version": "3.10.12"
  }
 },
 "nbformat": 4,
 "nbformat_minor": 4
}
